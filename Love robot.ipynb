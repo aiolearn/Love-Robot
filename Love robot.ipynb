{
 "cells": [
  {
   "cell_type": "code",
   "execution_count": null,
   "metadata": {},
   "outputs": [],
   "source": [
    "!pip -q install "
   ]
  },
  {
   "cell_type": "markdown",
   "metadata": {},
   "source": [
    "## J7"
   ]
  },
  {
   "cell_type": "markdown",
   "metadata": {},
   "source": [
    "### Documentation"
   ]
  },
  {
   "cell_type": "code",
   "execution_count": null,
   "metadata": {},
   "outputs": [],
   "source": [
    "\"\"\"\n",
    "pyautogui Library:\n",
    "    PyAutoGUI is a Python module that provides functions to programmatically control the mouse and keyboard. It is commonly used for automating tasks that involve GUI interactions.\n",
    "\n",
    "robot.sleep(seconds)\n",
    "    Purpose: \n",
    "        Pauses the execution of the script for the specified duration.\n",
    "    Parameters:\n",
    "        seconds: The duration to pause the script in seconds.\n",
    "for x in range(1, 100):\n",
    "Purpose: Iterates over a range of numbers from 1 to 99 (100 exclusive).\n",
    "Parameters:\n",
    "x: Variable representing the current iteration.\n",
    "robot.write(text, interval=0.05)\n",
    "Purpose: Simulates typing the specified text.\n",
    "Parameters:\n",
    "text: The text to be typed.\n",
    "interval: The time delay between key presses (default is 0.05 seconds).\n",
    "robot.press(key)\n",
    "Purpose: Simulates pressing a key on the keyboard.\n",
    "Parameters:\n",
    "key: The key to be pressed.\n",
    "\"\"\""
   ]
  },
  {
   "cell_type": "markdown",
   "metadata": {},
   "source": [
    "### Potential Issues"
   ]
  },
  {
   "cell_type": "code",
   "execution_count": null,
   "metadata": {},
   "outputs": [],
   "source": [
    "\"\"\"\n",
    "Hardcoded Text: The script contains hardcoded text ('i love you...'). It may be better to make this dynamic or configurable.\n",
    "\n",
    "Magic Numbers: The sleep durations (3, 0.3, 0.05) are hardcoded as magic numbers. Consider defining them as constants for better readability and maintainability.\n",
    "\"\"\""
   ]
  },
  {
   "cell_type": "markdown",
   "metadata": {},
   "source": [
    "### Resolution"
   ]
  },
  {
   "cell_type": "code",
   "execution_count": null,
   "metadata": {},
   "outputs": [],
   "source": [
    "\"\"\" 1. Dynamic Text:\n",
    "     If the text to be typed needs to be dynamic, consider accepting user input or reading from a data source.\n",
    "\n",
    "2. Constants for Sleep Durations:\n",
    "    ```\n",
    "    PAUSE_INITIAL = 3\n",
    "    PAUSE_ITERATION = 0.3\n",
    "    TYPE_INTERVAL = 0.05\n",
    "\n",
    "    robot.sleep(PAUSE_INITIAL)\n",
    "\n",
    "    for x in range(1, 100):\n",
    "        robot.sleep(PAUSE_ITERATION)\n",
    "        robot.write('i love you...', interval=TYPE_INTERVAL)\n",
    "        robot.press('enter')\n",
    "    ```\n",
    "    \"\"\""
   ]
  },
  {
   "cell_type": "markdown",
   "metadata": {},
   "source": [
    "### Code"
   ]
  },
  {
   "cell_type": "code",
   "execution_count": 3,
   "metadata": {},
   "outputs": [],
   "source": [
    "# لایبرری pyautogui با نام مستعار \"robot\" وارد شده است\n",
    "import pyautogui as robot"
   ]
  },
  {
   "cell_type": "code",
   "execution_count": 4,
   "metadata": {},
   "outputs": [],
   "source": [
    "# اسکریپت را برای 3 ثانیه متوقف کن\n",
    "robot.sleep(3)"
   ]
  },
  {
   "cell_type": "code",
   "execution_count": 5,
   "metadata": {},
   "outputs": [
    {
     "ename": "KeyboardInterrupt",
     "evalue": "",
     "output_type": "error",
     "traceback": [
      "\u001b[1;31m---------------------------------------------------------------------------\u001b[0m",
      "\u001b[1;31mKeyboardInterrupt\u001b[0m                         Traceback (most recent call last)",
      "Cell \u001b[1;32mIn[5], line 7\u001b[0m\n\u001b[0;32m      4\u001b[0m robot\u001b[38;5;241m.\u001b[39msleep(\u001b[38;5;241m0.3\u001b[39m)\n\u001b[0;32m      6\u001b[0m \u001b[38;5;66;03m# شبیه‌سازی تایپ کردن متن 'i love you...' با فاصله زمانی مشخص شده برابر با 0.05 ثانیه\u001b[39;00m\n\u001b[1;32m----> 7\u001b[0m \u001b[43mrobot\u001b[49m\u001b[38;5;241;43m.\u001b[39;49m\u001b[43mwrite\u001b[49m\u001b[43m(\u001b[49m\u001b[38;5;124;43m'\u001b[39;49m\u001b[38;5;124;43mi love you...\u001b[39;49m\u001b[38;5;124;43m'\u001b[39;49m\u001b[43m,\u001b[49m\u001b[43m \u001b[49m\u001b[43minterval\u001b[49m\u001b[38;5;241;43m=\u001b[39;49m\u001b[38;5;241;43m0.05\u001b[39;49m\u001b[43m)\u001b[49m\n\u001b[0;32m      9\u001b[0m \u001b[38;5;66;03m# شبیه‌سازی فشردن کلید 'Enter'\u001b[39;00m\n\u001b[0;32m     10\u001b[0m robot\u001b[38;5;241m.\u001b[39mpress(\u001b[38;5;124m'\u001b[39m\u001b[38;5;124menter\u001b[39m\u001b[38;5;124m'\u001b[39m)\n",
      "File \u001b[1;32m~\\AppData\\Roaming\\Python\\Python38\\site-packages\\pyautogui\\__init__.py:594\u001b[0m, in \u001b[0;36m_genericPyAutoGUIChecks.<locals>.wrapper\u001b[1;34m(*args, **kwargs)\u001b[0m\n\u001b[0;32m    591\u001b[0m \u001b[38;5;129m@functools\u001b[39m\u001b[38;5;241m.\u001b[39mwraps(wrappedFunction)\n\u001b[0;32m    592\u001b[0m \u001b[38;5;28;01mdef\u001b[39;00m \u001b[38;5;21mwrapper\u001b[39m(\u001b[38;5;241m*\u001b[39margs, \u001b[38;5;241m*\u001b[39m\u001b[38;5;241m*\u001b[39mkwargs):\n\u001b[0;32m    593\u001b[0m     failSafeCheck()\n\u001b[1;32m--> 594\u001b[0m     returnVal \u001b[38;5;241m=\u001b[39m \u001b[43mwrappedFunction\u001b[49m\u001b[43m(\u001b[49m\u001b[38;5;241;43m*\u001b[39;49m\u001b[43margs\u001b[49m\u001b[43m,\u001b[49m\u001b[43m \u001b[49m\u001b[38;5;241;43m*\u001b[39;49m\u001b[38;5;241;43m*\u001b[39;49m\u001b[43mkwargs\u001b[49m\u001b[43m)\u001b[49m\n\u001b[0;32m    595\u001b[0m     _handlePause(kwargs\u001b[38;5;241m.\u001b[39mget(\u001b[38;5;124m\"\u001b[39m\u001b[38;5;124m_pause\u001b[39m\u001b[38;5;124m\"\u001b[39m, \u001b[38;5;28;01mTrue\u001b[39;00m))\n\u001b[0;32m    596\u001b[0m     \u001b[38;5;28;01mreturn\u001b[39;00m returnVal\n",
      "File \u001b[1;32m~\\AppData\\Roaming\\Python\\Python38\\site-packages\\pyautogui\\__init__.py:1686\u001b[0m, in \u001b[0;36mtypewrite\u001b[1;34m(message, interval, logScreenshot, _pause)\u001b[0m\n\u001b[0;32m   1684\u001b[0m     c \u001b[38;5;241m=\u001b[39m c\u001b[38;5;241m.\u001b[39mlower()\n\u001b[0;32m   1685\u001b[0m press(c, _pause\u001b[38;5;241m=\u001b[39m\u001b[38;5;28;01mFalse\u001b[39;00m)\n\u001b[1;32m-> 1686\u001b[0m \u001b[43mtime\u001b[49m\u001b[38;5;241;43m.\u001b[39;49m\u001b[43msleep\u001b[49m\u001b[43m(\u001b[49m\u001b[43minterval\u001b[49m\u001b[43m)\u001b[49m\n\u001b[0;32m   1687\u001b[0m failSafeCheck()\n",
      "\u001b[1;31mKeyboardInterrupt\u001b[0m: "
     ]
    }
   ],
   "source": [
    "# بر روی یک دامنه از اعداد از 1 تا 99 (100 مستثنی) حلقه ایجاد کن\n",
    "for x in range(1, 100):\n",
    "    # برای 0.3 ثانیه متوقف شو\n",
    "    robot.sleep(0.3)\n",
    "    \n",
    "    # شبیه‌سازی تایپ کردن متن 'i love you...' با فاصله زمانی مشخص شده برابر با 0.05 ثانیه\n",
    "    robot.write('i love you...', interval=0.05)\n",
    "    \n",
    "    # شبیه‌سازی فشردن کلید 'Enter'\n",
    "    robot.press('enter')"
   ]
  }
 ],
 "metadata": {
  "kernelspec": {
   "display_name": "Python 3.8.8 64-bit",
   "language": "python",
   "name": "python3"
  },
  "language_info": {
   "codemirror_mode": {
    "name": "ipython",
    "version": 3
   },
   "file_extension": ".py",
   "mimetype": "text/x-python",
   "name": "python",
   "nbconvert_exporter": "python",
   "pygments_lexer": "ipython3",
   "version": "3.8.8"
  },
  "orig_nbformat": 4,
  "vscode": {
   "interpreter": {
    "hash": "570feb405e2e27c949193ac68f46852414290d515b0ba6e5d90d076ed2284471"
   }
  }
 },
 "nbformat": 4,
 "nbformat_minor": 2
}
